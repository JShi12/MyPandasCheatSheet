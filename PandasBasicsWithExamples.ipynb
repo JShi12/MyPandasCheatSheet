{
 "cells": [
  {
   "cell_type": "markdown",
   "id": "005a94f2-0bed-4b12-a090-aa510cd206cc",
   "metadata": {},
   "source": [
    "# My Pandas basics with examples\n",
    "\n",
    " 1. This is a notebook to accompany the **PandasCheatSheet.ipynb** I prepared for data scientce coding tests on Pandas. It contains most common functions with examples and output to learn about the functions. \n",
    " 2. If you see a function in the \"My Pandas Cheat Sheet\" notebook that you are not sure what it is doing, you can check here on data. I found it very helpful for my understanding\n"
   ]
  },
  {
   "cell_type": "code",
   "execution_count": 1,
   "id": "0a2e9921-b9aa-4697-9606-391955dab4e5",
   "metadata": {},
   "outputs": [],
   "source": [
    "import pandas as pd\n",
    "import numpy as np"
   ]
  },
  {
   "cell_type": "markdown",
   "id": "148d85fb-9bdd-4a51-bf45-a49a7e691fbf",
   "metadata": {},
   "source": [
    "# Read and save data"
   ]
  },
  {
   "cell_type": "code",
   "execution_count": 2,
   "id": "6c173711-20fc-407f-9af5-ccec3641580c",
   "metadata": {},
   "outputs": [],
   "source": [
    "# df=pd.read_csv(\"data.csv\")\n",
    "# df.to_csv(\"data.csv\")\n"
   ]
  },
  {
   "cell_type": "markdown",
   "id": "a9790b9c-7cf2-4c29-8038-13b48e725bd1",
   "metadata": {},
   "source": [
    "# Generate a simple dataset for exploring"
   ]
  },
  {
   "cell_type": "code",
   "execution_count": 3,
   "id": "e160a0de-836b-48df-9315-e840aa8a6286",
   "metadata": {},
   "outputs": [
    {
     "data": {
      "text/html": [
       "<div>\n",
       "<style scoped>\n",
       "    .dataframe tbody tr th:only-of-type {\n",
       "        vertical-align: middle;\n",
       "    }\n",
       "\n",
       "    .dataframe tbody tr th {\n",
       "        vertical-align: top;\n",
       "    }\n",
       "\n",
       "    .dataframe thead th {\n",
       "        text-align: right;\n",
       "    }\n",
       "</style>\n",
       "<table border=\"1\" class=\"dataframe\">\n",
       "  <thead>\n",
       "    <tr style=\"text-align: right;\">\n",
       "      <th></th>\n",
       "      <th>A</th>\n",
       "      <th>B</th>\n",
       "      <th>C</th>\n",
       "      <th>D</th>\n",
       "    </tr>\n",
       "  </thead>\n",
       "  <tbody>\n",
       "    <tr>\n",
       "      <th>0</th>\n",
       "      <td>0.0</td>\n",
       "      <td>0.0</td>\n",
       "      <td>foo1</td>\n",
       "      <td>2009-01-01</td>\n",
       "    </tr>\n",
       "    <tr>\n",
       "      <th>1</th>\n",
       "      <td>1.0</td>\n",
       "      <td>1.0</td>\n",
       "      <td>foo2</td>\n",
       "      <td>2009-01-02</td>\n",
       "    </tr>\n",
       "    <tr>\n",
       "      <th>2</th>\n",
       "      <td>NaN</td>\n",
       "      <td>0.0</td>\n",
       "      <td>foo3</td>\n",
       "      <td>2009-01-05</td>\n",
       "    </tr>\n",
       "    <tr>\n",
       "      <th>3</th>\n",
       "      <td>3.0</td>\n",
       "      <td>1.0</td>\n",
       "      <td>foo4</td>\n",
       "      <td>2009-01-06</td>\n",
       "    </tr>\n",
       "    <tr>\n",
       "      <th>4</th>\n",
       "      <td>3.0</td>\n",
       "      <td>1.0</td>\n",
       "      <td>foo4</td>\n",
       "      <td>2009-01-06</td>\n",
       "    </tr>\n",
       "  </tbody>\n",
       "</table>\n",
       "</div>"
      ],
      "text/plain": [
       "     A    B     C          D\n",
       "0  0.0  0.0  foo1 2009-01-01\n",
       "1  1.0  1.0  foo2 2009-01-02\n",
       "2  NaN  0.0  foo3 2009-01-05\n",
       "3  3.0  1.0  foo4 2009-01-06\n",
       "4  3.0  1.0  foo4 2009-01-06"
      ]
     },
     "execution_count": 3,
     "metadata": {},
     "output_type": "execute_result"
    }
   ],
   "source": [
    "df = pd._testing.makeMixedDataFrame()\n",
    "# Change some cell data for following manipulation¶\n",
    "df.loc[4]=df.loc[3]  # Copy row 3 to row 4\n",
    "df.loc[2,\"A\"]=np.nan # Set NaN \n",
    "df"
   ]
  },
  {
   "cell_type": "markdown",
   "id": "fb097953-d82d-4fa6-b8a3-6971138cf603",
   "metadata": {},
   "source": [
    "# Check basic information"
   ]
  },
  {
   "cell_type": "code",
   "execution_count": 4,
   "id": "2bcef748-525c-4007-9a8f-091ff3c79462",
   "metadata": {},
   "outputs": [
    {
     "data": {
      "text/html": [
       "<div>\n",
       "<style scoped>\n",
       "    .dataframe tbody tr th:only-of-type {\n",
       "        vertical-align: middle;\n",
       "    }\n",
       "\n",
       "    .dataframe tbody tr th {\n",
       "        vertical-align: top;\n",
       "    }\n",
       "\n",
       "    .dataframe thead th {\n",
       "        text-align: right;\n",
       "    }\n",
       "</style>\n",
       "<table border=\"1\" class=\"dataframe\">\n",
       "  <thead>\n",
       "    <tr style=\"text-align: right;\">\n",
       "      <th></th>\n",
       "      <th>A</th>\n",
       "      <th>B</th>\n",
       "      <th>C</th>\n",
       "      <th>D</th>\n",
       "    </tr>\n",
       "  </thead>\n",
       "  <tbody>\n",
       "    <tr>\n",
       "      <th>0</th>\n",
       "      <td>0.0</td>\n",
       "      <td>0.0</td>\n",
       "      <td>foo1</td>\n",
       "      <td>2009-01-01</td>\n",
       "    </tr>\n",
       "    <tr>\n",
       "      <th>1</th>\n",
       "      <td>1.0</td>\n",
       "      <td>1.0</td>\n",
       "      <td>foo2</td>\n",
       "      <td>2009-01-02</td>\n",
       "    </tr>\n",
       "    <tr>\n",
       "      <th>2</th>\n",
       "      <td>NaN</td>\n",
       "      <td>0.0</td>\n",
       "      <td>foo3</td>\n",
       "      <td>2009-01-05</td>\n",
       "    </tr>\n",
       "    <tr>\n",
       "      <th>3</th>\n",
       "      <td>3.0</td>\n",
       "      <td>1.0</td>\n",
       "      <td>foo4</td>\n",
       "      <td>2009-01-06</td>\n",
       "    </tr>\n",
       "    <tr>\n",
       "      <th>4</th>\n",
       "      <td>3.0</td>\n",
       "      <td>1.0</td>\n",
       "      <td>foo4</td>\n",
       "      <td>2009-01-06</td>\n",
       "    </tr>\n",
       "  </tbody>\n",
       "</table>\n",
       "</div>"
      ],
      "text/plain": [
       "     A    B     C          D\n",
       "0  0.0  0.0  foo1 2009-01-01\n",
       "1  1.0  1.0  foo2 2009-01-02\n",
       "2  NaN  0.0  foo3 2009-01-05\n",
       "3  3.0  1.0  foo4 2009-01-06\n",
       "4  3.0  1.0  foo4 2009-01-06"
      ]
     },
     "execution_count": 4,
     "metadata": {},
     "output_type": "execute_result"
    }
   ],
   "source": [
    "df.head()"
   ]
  },
  {
   "cell_type": "code",
   "execution_count": 5,
   "id": "14810bfb-5319-4d13-af07-d76491997a86",
   "metadata": {},
   "outputs": [
    {
     "data": {
      "text/plain": [
       "(5, 4)"
      ]
     },
     "execution_count": 5,
     "metadata": {},
     "output_type": "execute_result"
    }
   ],
   "source": [
    "df.shape"
   ]
  },
  {
   "cell_type": "code",
   "execution_count": 6,
   "id": "4ff6c021-e408-4f2c-97dd-7cf8509e2c8e",
   "metadata": {},
   "outputs": [
    {
     "name": "stdout",
     "output_type": "stream",
     "text": [
      "<class 'pandas.core.frame.DataFrame'>\n",
      "RangeIndex: 5 entries, 0 to 4\n",
      "Data columns (total 4 columns):\n",
      " #   Column  Non-Null Count  Dtype         \n",
      "---  ------  --------------  -----         \n",
      " 0   A       4 non-null      float64       \n",
      " 1   B       5 non-null      float64       \n",
      " 2   C       5 non-null      object        \n",
      " 3   D       5 non-null      datetime64[ns]\n",
      "dtypes: datetime64[ns](1), float64(2), object(1)\n",
      "memory usage: 292.0+ bytes\n"
     ]
    }
   ],
   "source": [
    "df.info()"
   ]
  },
  {
   "cell_type": "code",
   "execution_count": 7,
   "id": "f38e75e2-4202-4445-a3ec-d9ece3cb5478",
   "metadata": {},
   "outputs": [
    {
     "data": {
      "text/html": [
       "<div>\n",
       "<style scoped>\n",
       "    .dataframe tbody tr th:only-of-type {\n",
       "        vertical-align: middle;\n",
       "    }\n",
       "\n",
       "    .dataframe tbody tr th {\n",
       "        vertical-align: top;\n",
       "    }\n",
       "\n",
       "    .dataframe thead th {\n",
       "        text-align: right;\n",
       "    }\n",
       "</style>\n",
       "<table border=\"1\" class=\"dataframe\">\n",
       "  <thead>\n",
       "    <tr style=\"text-align: right;\">\n",
       "      <th></th>\n",
       "      <th>A</th>\n",
       "      <th>B</th>\n",
       "      <th>D</th>\n",
       "    </tr>\n",
       "  </thead>\n",
       "  <tbody>\n",
       "    <tr>\n",
       "      <th>count</th>\n",
       "      <td>4.00</td>\n",
       "      <td>5.000000</td>\n",
       "      <td>5</td>\n",
       "    </tr>\n",
       "    <tr>\n",
       "      <th>mean</th>\n",
       "      <td>1.75</td>\n",
       "      <td>0.600000</td>\n",
       "      <td>2009-01-04 00:00:00</td>\n",
       "    </tr>\n",
       "    <tr>\n",
       "      <th>min</th>\n",
       "      <td>0.00</td>\n",
       "      <td>0.000000</td>\n",
       "      <td>2009-01-01 00:00:00</td>\n",
       "    </tr>\n",
       "    <tr>\n",
       "      <th>25%</th>\n",
       "      <td>0.75</td>\n",
       "      <td>0.000000</td>\n",
       "      <td>2009-01-02 00:00:00</td>\n",
       "    </tr>\n",
       "    <tr>\n",
       "      <th>50%</th>\n",
       "      <td>2.00</td>\n",
       "      <td>1.000000</td>\n",
       "      <td>2009-01-05 00:00:00</td>\n",
       "    </tr>\n",
       "    <tr>\n",
       "      <th>75%</th>\n",
       "      <td>3.00</td>\n",
       "      <td>1.000000</td>\n",
       "      <td>2009-01-06 00:00:00</td>\n",
       "    </tr>\n",
       "    <tr>\n",
       "      <th>max</th>\n",
       "      <td>3.00</td>\n",
       "      <td>1.000000</td>\n",
       "      <td>2009-01-06 00:00:00</td>\n",
       "    </tr>\n",
       "    <tr>\n",
       "      <th>std</th>\n",
       "      <td>1.50</td>\n",
       "      <td>0.547723</td>\n",
       "      <td>NaN</td>\n",
       "    </tr>\n",
       "  </tbody>\n",
       "</table>\n",
       "</div>"
      ],
      "text/plain": [
       "          A         B                    D\n",
       "count  4.00  5.000000                    5\n",
       "mean   1.75  0.600000  2009-01-04 00:00:00\n",
       "min    0.00  0.000000  2009-01-01 00:00:00\n",
       "25%    0.75  0.000000  2009-01-02 00:00:00\n",
       "50%    2.00  1.000000  2009-01-05 00:00:00\n",
       "75%    3.00  1.000000  2009-01-06 00:00:00\n",
       "max    3.00  1.000000  2009-01-06 00:00:00\n",
       "std    1.50  0.547723                  NaN"
      ]
     },
     "execution_count": 7,
     "metadata": {},
     "output_type": "execute_result"
    }
   ],
   "source": [
    "df.describe()"
   ]
  },
  {
   "cell_type": "code",
   "execution_count": 8,
   "id": "42b0a70e-f16e-46ab-afc7-bf4163faa289",
   "metadata": {},
   "outputs": [
    {
     "data": {
      "text/html": [
       "<div>\n",
       "<style scoped>\n",
       "    .dataframe tbody tr th:only-of-type {\n",
       "        vertical-align: middle;\n",
       "    }\n",
       "\n",
       "    .dataframe tbody tr th {\n",
       "        vertical-align: top;\n",
       "    }\n",
       "\n",
       "    .dataframe thead th {\n",
       "        text-align: right;\n",
       "    }\n",
       "</style>\n",
       "<table border=\"1\" class=\"dataframe\">\n",
       "  <thead>\n",
       "    <tr style=\"text-align: right;\">\n",
       "      <th></th>\n",
       "      <th>A</th>\n",
       "      <th>B</th>\n",
       "      <th>C</th>\n",
       "      <th>D</th>\n",
       "    </tr>\n",
       "  </thead>\n",
       "  <tbody>\n",
       "    <tr>\n",
       "      <th>0</th>\n",
       "      <td>False</td>\n",
       "      <td>False</td>\n",
       "      <td>False</td>\n",
       "      <td>False</td>\n",
       "    </tr>\n",
       "    <tr>\n",
       "      <th>1</th>\n",
       "      <td>False</td>\n",
       "      <td>False</td>\n",
       "      <td>False</td>\n",
       "      <td>False</td>\n",
       "    </tr>\n",
       "    <tr>\n",
       "      <th>2</th>\n",
       "      <td>True</td>\n",
       "      <td>False</td>\n",
       "      <td>False</td>\n",
       "      <td>False</td>\n",
       "    </tr>\n",
       "    <tr>\n",
       "      <th>3</th>\n",
       "      <td>False</td>\n",
       "      <td>False</td>\n",
       "      <td>False</td>\n",
       "      <td>False</td>\n",
       "    </tr>\n",
       "    <tr>\n",
       "      <th>4</th>\n",
       "      <td>False</td>\n",
       "      <td>False</td>\n",
       "      <td>False</td>\n",
       "      <td>False</td>\n",
       "    </tr>\n",
       "  </tbody>\n",
       "</table>\n",
       "</div>"
      ],
      "text/plain": [
       "       A      B      C      D\n",
       "0  False  False  False  False\n",
       "1  False  False  False  False\n",
       "2   True  False  False  False\n",
       "3  False  False  False  False\n",
       "4  False  False  False  False"
      ]
     },
     "execution_count": 8,
     "metadata": {},
     "output_type": "execute_result"
    }
   ],
   "source": [
    "df.isna()"
   ]
  },
  {
   "cell_type": "code",
   "execution_count": 9,
   "id": "8de7afea-4ef5-46a8-928a-c73ffff55722",
   "metadata": {},
   "outputs": [
    {
     "data": {
      "text/plain": [
       "A    1\n",
       "B    0\n",
       "C    0\n",
       "D    0\n",
       "dtype: int64"
      ]
     },
     "execution_count": 9,
     "metadata": {},
     "output_type": "execute_result"
    }
   ],
   "source": [
    "df.isna().sum()"
   ]
  },
  {
   "cell_type": "code",
   "execution_count": 10,
   "id": "043c78bd-d404-4ca8-9d2a-d230a4158fb6",
   "metadata": {},
   "outputs": [
    {
     "data": {
      "text/plain": [
       "A    B    C     D         \n",
       "3.0  1.0  foo4  2009-01-06    2\n",
       "0.0  0.0  foo1  2009-01-01    1\n",
       "1.0  1.0  foo2  2009-01-02    1\n",
       "NaN  0.0  foo3  2009-01-05    1\n",
       "Name: count, dtype: int64"
      ]
     },
     "execution_count": 10,
     "metadata": {},
     "output_type": "execute_result"
    }
   ],
   "source": [
    "df.value_counts(dropna=False)"
   ]
  },
  {
   "cell_type": "markdown",
   "id": "465db98e-b132-479f-b0eb-613f2e2be678",
   "metadata": {},
   "source": [
    "# Selection \n"
   ]
  },
  {
   "cell_type": "markdown",
   "id": "ad16ad0d-2d7a-4439-b5ef-e620c39e1146",
   "metadata": {},
   "source": [
    "## Slicing with [], on rows"
   ]
  },
  {
   "cell_type": "code",
   "execution_count": 11,
   "id": "4d9ce894-d299-4dec-9300-f44e9fc47f70",
   "metadata": {},
   "outputs": [
    {
     "name": "stdout",
     "output_type": "stream",
     "text": [
      "     A    B     C          D\n",
      "0  0.0  0.0  foo1 2009-01-01\n",
      "2  NaN  0.0  foo3 2009-01-05\n",
      "4  3.0  1.0  foo4 2009-01-06\n",
      "     A    B     C          D\n",
      "4  3.0  1.0  foo4 2009-01-06\n",
      "3  3.0  1.0  foo4 2009-01-06\n",
      "2  NaN  0.0  foo3 2009-01-05\n",
      "1  1.0  1.0  foo2 2009-01-02\n",
      "0  0.0  0.0  foo1 2009-01-01\n",
      "     A    B     C          D\n",
      "0  0.0  0.0  foo1 2009-01-01\n",
      "1  1.0  1.0  foo2 2009-01-02\n",
      "2  NaN  0.0  foo3 2009-01-05\n"
     ]
    }
   ],
   "source": [
    "a=df[::2] \n",
    "print (a)\n",
    "\n",
    "b=df[::-1]\n",
    "print (b)\n",
    "\n",
    "c=df[:3]\n",
    "print(c)"
   ]
  },
  {
   "cell_type": "markdown",
   "id": "c5a5186a-c6bd-468f-8804-210755681bee",
   "metadata": {},
   "source": [
    "## .iloc[], by position, integer based indexing"
   ]
  },
  {
   "cell_type": "code",
   "execution_count": 12,
   "id": "0dfd6aa4-05e9-47ee-b844-8a185f3d9727",
   "metadata": {},
   "outputs": [
    {
     "name": "stdout",
     "output_type": "stream",
     "text": [
      "0.0\n",
      "\n",
      "A                    0.0\n",
      "B                    0.0\n",
      "C                   foo1\n",
      "D    2009-01-01 00:00:00\n",
      "Name: 0, dtype: object\n",
      "<class 'pandas.core.series.Series'>\n",
      "\n",
      "     A    B     C          D\n",
      "0  0.0  0.0  foo1 2009-01-01\n",
      "\n",
      "     A    B     C          D\n",
      "0  0.0  0.0  foo1 2009-01-01\n",
      "1  1.0  1.0  foo2 2009-01-02\n",
      "\n",
      "     A    B\n",
      "0  0.0  0.0\n",
      "1  1.0  1.0\n",
      "\n",
      "      C          D\n",
      "3  foo4 2009-01-06\n",
      "4  foo4 2009-01-06\n",
      "\n",
      "     B          D\n",
      "1  1.0 2009-01-02\n",
      "3  1.0 2009-01-06\n"
     ]
    }
   ],
   "source": [
    "a=df.iloc[0,1] # Return the cell value\n",
    "print (a)\n",
    "print ()\n",
    "\n",
    "b=df.iloc[0] # This return a series object, not a data frame (table)\n",
    "print(b)\n",
    "print(type(b))\n",
    "print ()\n",
    "\n",
    "c=df.iloc[[0]] # This returns a table\n",
    "print(c)\n",
    "print()\n",
    "\n",
    "d=df.iloc[[0,1]] # This returns a table with the first and second rows\n",
    "print(d)\n",
    "print()\n",
    "\n",
    "e=df.iloc[:2,:2]\n",
    "print (e)\n",
    "print ()\n",
    "\n",
    "f=df.iloc[-2:,-2:]\n",
    "print(f)\n",
    "print()\n",
    "\n",
    "g=df.iloc[[1, 3], [1, 3]]\n",
    "print(g)"
   ]
  },
  {
   "cell_type": "markdown",
   "id": "bea59222-7da5-46f6-9d11-426550dae017",
   "metadata": {},
   "source": [
    "## .loc[], label based, may also be used with a boolean array\n",
    "df.loc[row_indexer,column_indexer]"
   ]
  },
  {
   "cell_type": "code",
   "execution_count": 13,
   "id": "e0f3623c-f03a-4661-934a-03a9d2bb1580",
   "metadata": {},
   "outputs": [
    {
     "name": "stdout",
     "output_type": "stream",
     "text": [
      "A                    0.0\n",
      "B                    0.0\n",
      "C                   foo1\n",
      "D    2009-01-01 00:00:00\n",
      "Name: 0, dtype: object\n",
      "<class 'pandas.core.series.Series'>\n",
      "\n",
      "     A    B     C          D\n",
      "0  0.0  0.0  foo1 2009-01-01\n",
      "<class 'pandas.core.frame.DataFrame'>\n",
      "\n",
      "     A    B     C          D\n",
      "0  0.0  0.0  foo1 2009-01-01\n",
      "1  1.0  1.0  foo2 2009-01-02\n",
      "2  NaN  0.0  foo3 2009-01-05\n",
      "3  3.0  1.0  foo4 2009-01-06\n",
      "<class 'pandas.core.frame.DataFrame'>\n",
      "     A    B     C\n",
      "0  0.0  0.0  foo1\n",
      "1  1.0  1.0  foo2\n",
      "2  NaN  0.0  foo3\n",
      "3  3.0  1.0  foo4\n",
      "\n",
      "      C          D\n",
      "1  foo2 2009-01-02\n",
      "4  foo4 2009-01-06\n",
      "\n",
      "0    False\n",
      "1     True\n",
      "2    False\n",
      "3     True\n",
      "4     True\n",
      "Name: A, dtype: bool\n",
      "<class 'pandas.core.series.Series'>\n",
      "\n",
      "     A    B     C          D\n",
      "1  1.0  1.0  foo2 2009-01-02\n",
      "3  3.0  1.0  foo4 2009-01-06\n",
      "4  3.0  1.0  foo4 2009-01-06\n",
      "\n",
      "     A    B     C          D\n",
      "1  1.0  1.0  foo2 2009-01-02\n",
      "3  3.0  1.0  foo4 2009-01-06\n",
      "4  3.0  1.0  foo4 2009-01-06\n",
      "\n",
      "     A    B     C          D\n",
      "1  1.0  1.0  foo2 2009-01-02\n",
      "\n",
      "     A    B     C          D    F    G\n",
      "1  1.0  1.0  foo2 2009-01-02 -1.0 -2.0\n"
     ]
    }
   ],
   "source": [
    "a=df.loc[0]\n",
    "print (a)\n",
    "print (type(a))\n",
    "print ()\n",
    "\n",
    "a1=df.loc[[0]]\n",
    "print (a1)\n",
    "print (type(a1))\n",
    "print ()\n",
    "\n",
    "b=df.loc[:3]\n",
    "print (b)\n",
    "print (type(b))\n",
    "\n",
    "c=df.loc[:3,\"A\":\"C\"]\n",
    "print(c)\n",
    "print()\n",
    "\n",
    "d=df.loc[[1,4],\"C\":]\n",
    "print (d)\n",
    "print()\n",
    "\n",
    "e=df.loc[:,\"A\"]>0\n",
    "print(e)\n",
    "print (type(e))\n",
    "print()\n",
    "\n",
    "f=df.loc[df.loc[:,\"A\"]>0,:]\n",
    "print (f)\n",
    "print()\n",
    "\n",
    "g=df.loc[lambda df: df.A>0,:] \n",
    "print (g)\n",
    "print()\n",
    "\n",
    "h=df.loc[lambda df: (df.A>0) & (df.D==\"2009-01-02\"),:] \n",
    "print(h)\n",
    "print ()\n",
    "\n",
    "i=df.loc[lambda df: (df.A>0) & (df.D==\"2009-01-02\"),:].assign(F=lambda df: df.A - 2, G=lambda df: df.F*2)\n",
    "print(i)"
   ]
  },
  {
   "cell_type": "markdown",
   "id": "3034716e-3c68-4479-9549-02e8214fa114",
   "metadata": {},
   "source": [
    "## Note:\n",
    "lambda with .loc be more useful in complex operations or when chaining multiple methods together, as it allows you to pass functions dynamically."
   ]
  },
  {
   "cell_type": "markdown",
   "id": "520fb49e-a7d9-4fec-a931-164ba9696420",
   "metadata": {},
   "source": [
    "# Data cleaning"
   ]
  },
  {
   "cell_type": "code",
   "execution_count": 14,
   "id": "88315dec-8f46-44f7-b037-ed9260363090",
   "metadata": {},
   "outputs": [],
   "source": [
    "# Make the DataFrame for testing\n",
    "df = pd._testing.makeMixedDataFrame()\n",
    "# Change some cell data for following manipulation¶\n",
    "df.loc[4]=df.loc[3]  # Copy row 3 to row 4\n",
    "df.loc[4,\"B\"]=0\n",
    "df.loc[2,\"A\"]=np.nan # Set NaN \n",
    "\n",
    "# Change column or index names\n",
    "df=df.rename(index=lambda x: x+1)\n",
    "df=df.rename(columns={\"D\":\"Date\"})\n",
    "df=df.set_index(\"C\") # Set the DataFrame index using existing columns\n",
    "df=df.reset_index()"
   ]
  },
  {
   "cell_type": "code",
   "execution_count": 15,
   "id": "52fcbd68-a746-4c62-9916-cc57f79b620d",
   "metadata": {},
   "outputs": [
    {
     "data": {
      "text/html": [
       "<div>\n",
       "<style scoped>\n",
       "    .dataframe tbody tr th:only-of-type {\n",
       "        vertical-align: middle;\n",
       "    }\n",
       "\n",
       "    .dataframe tbody tr th {\n",
       "        vertical-align: top;\n",
       "    }\n",
       "\n",
       "    .dataframe thead th {\n",
       "        text-align: right;\n",
       "    }\n",
       "</style>\n",
       "<table border=\"1\" class=\"dataframe\">\n",
       "  <thead>\n",
       "    <tr style=\"text-align: right;\">\n",
       "      <th></th>\n",
       "      <th>C</th>\n",
       "      <th>A</th>\n",
       "      <th>B</th>\n",
       "      <th>Date</th>\n",
       "    </tr>\n",
       "  </thead>\n",
       "  <tbody>\n",
       "    <tr>\n",
       "      <th>0</th>\n",
       "      <td>foo1</td>\n",
       "      <td>0.00</td>\n",
       "      <td>0.0</td>\n",
       "      <td>2009-01-01</td>\n",
       "    </tr>\n",
       "    <tr>\n",
       "      <th>1</th>\n",
       "      <td>foo2</td>\n",
       "      <td>1.00</td>\n",
       "      <td>1.0</td>\n",
       "      <td>2009-01-02</td>\n",
       "    </tr>\n",
       "    <tr>\n",
       "      <th>2</th>\n",
       "      <td>foo3</td>\n",
       "      <td>1.75</td>\n",
       "      <td>0.0</td>\n",
       "      <td>2009-01-05</td>\n",
       "    </tr>\n",
       "    <tr>\n",
       "      <th>3</th>\n",
       "      <td>foo4</td>\n",
       "      <td>3.00</td>\n",
       "      <td>1.0</td>\n",
       "      <td>2009-01-06</td>\n",
       "    </tr>\n",
       "    <tr>\n",
       "      <th>4</th>\n",
       "      <td>foo4</td>\n",
       "      <td>3.00</td>\n",
       "      <td>0.0</td>\n",
       "      <td>2009-01-06</td>\n",
       "    </tr>\n",
       "  </tbody>\n",
       "</table>\n",
       "</div>"
      ],
      "text/plain": [
       "      C     A    B       Date\n",
       "0  foo1  0.00  0.0 2009-01-01\n",
       "1  foo2  1.00  1.0 2009-01-02\n",
       "2  foo3  1.75  0.0 2009-01-05\n",
       "3  foo4  3.00  1.0 2009-01-06\n",
       "4  foo4  3.00  0.0 2009-01-06"
      ]
     },
     "execution_count": 15,
     "metadata": {},
     "output_type": "execute_result"
    }
   ],
   "source": [
    "# Dealing with null values\n",
    "pd.isna(df)\n",
    "pd.isna(df[\"A\"])\n",
    "pd.notna(df[\"A\"])\n",
    "df.dropna().reset_index() # Drops rows with null values and reset index ; default inplace=False\n",
    "df.dropna(axis=1) # Drop columns that contain null values\n",
    "df.dropna(thresh=1) # Drop rows that have less than thresh (1 here) non-null values\n",
    "# df.fillna(0)\n",
    "df[\"A\"]=df[\"A\"].fillna(df[\"A\"].mean())\n",
    "df"
   ]
  },
  {
   "cell_type": "markdown",
   "id": "9dfb4b25-7e71-40cd-97e9-814c1fcc415b",
   "metadata": {},
   "source": [
    "# Filter, sort, groupby, and transform"
   ]
  },
  {
   "cell_type": "code",
   "execution_count": 16,
   "id": "56fc83f6-e739-49d0-b730-a93bc217e583",
   "metadata": {},
   "outputs": [
    {
     "name": "stdout",
     "output_type": "stream",
     "text": [
      "0    False\n",
      "1    False\n",
      "2     True\n",
      "3     True\n",
      "4     True\n",
      "Name: A, dtype: bool\n",
      "<class 'pandas.core.series.Series'>\n",
      "\n",
      "      C    A    B       Date\n",
      "3  foo4  3.0  1.0 2009-01-06\n",
      "\n",
      "      C     A    B       Date\n",
      "2  foo3  1.75  0.0 2009-01-05\n",
      "3  foo4  3.00  1.0 2009-01-06\n",
      "4  foo4  3.00  0.0 2009-01-06\n",
      "\n"
     ]
    }
   ],
   "source": [
    "# FILTERING\n",
    "condition=df['A']>1  # Retrun a boolean Series\n",
    "print(condition)\n",
    "print(type(condition))\n",
    "print ()\n",
    "\n",
    "df[df['A']>1]\n",
    "a=df[(df['A']>1)&(df['B']>0)]\n",
    "print(a)\n",
    "print()\n",
    "\n",
    "b=df.loc[df.A>1,:] \n",
    "print(b)\n",
    "print()"
   ]
  },
  {
   "cell_type": "code",
   "execution_count": 17,
   "id": "45add17c-b0c4-4823-8379-cbdfc0fdad89",
   "metadata": {},
   "outputs": [
    {
     "name": "stdout",
     "output_type": "stream",
     "text": [
      "      C     A    B       Date\n",
      "0  foo1  0.00  0.0 2009-01-01\n",
      "1  foo2  1.00  1.0 2009-01-02\n",
      "2  foo3  1.75  0.0 2009-01-05\n",
      "3  foo4  3.00  1.0 2009-01-06\n",
      "4  foo4  3.00  0.0 2009-01-06\n",
      "\n",
      "      C     A    B       Date\n",
      "4  foo4  3.00  0.0 2009-01-06\n",
      "3  foo4  3.00  1.0 2009-01-06\n",
      "2  foo3  1.75  0.0 2009-01-05\n",
      "1  foo2  1.00  1.0 2009-01-02\n",
      "0  foo1  0.00  0.0 2009-01-01\n"
     ]
    }
   ],
   "source": [
    "# SORTING\n",
    "a=df.sort_values(\"A\")\n",
    "print(a)\n",
    "print()\n",
    "\n",
    "b=df.sort_values(by=[\"A\",\"B\"],ascending=[False, True] )\n",
    "print(b)"
   ]
  },
  {
   "cell_type": "code",
   "execution_count": 18,
   "id": "582bb517-3d9e-44a8-804b-d4bbbc5e16c4",
   "metadata": {},
   "outputs": [
    {
     "name": "stdout",
     "output_type": "stream",
     "text": [
      "  Category Subcategory  Value1  Value2\n",
      "0        A           X      10      11\n",
      "1        A           Y      20       2\n",
      "2        A           X      15      15\n",
      "3        B           Y      25      25\n",
      "4        A           X      30      35\n",
      "5        B           Y      20      30\n"
     ]
    }
   ],
   "source": [
    "# GROUPING and TRANSFORMING\n",
    "# Example of using groupby with multiple columns\n",
    "data = {\n",
    "    'Category': ['A', 'A', 'A', 'B', 'A','B'],\n",
    "    'Subcategory': ['X', 'Y', 'X', 'Y', 'X','Y'],\n",
    "    'Value1': [10, 20, 15, 25, 30, 20],\n",
    "    'Value2': [11, 2, 15, 25, 35, 30]\n",
    "}\n",
    "df = pd.DataFrame(data)\n",
    "print (df)"
   ]
  },
  {
   "cell_type": "code",
   "execution_count": 19,
   "id": "147da0c1-17fb-4993-94d9-449417a2e78c",
   "metadata": {},
   "outputs": [
    {
     "name": "stdout",
     "output_type": "stream",
     "text": [
      "  Category Subcategory     Value1     Value2\n",
      "0        A           X  18.333333  20.333333\n",
      "1        A           Y  20.000000   2.000000\n",
      "2        B           Y  22.500000  27.500000\n"
     ]
    }
   ],
   "source": [
    "# Group by 'Category' and 'Subcategory' and calculate mean of 'Value'\n",
    "grouped = df.groupby(['Category', 'Subcategory']).mean().reset_index()\n",
    "print(grouped)"
   ]
  },
  {
   "cell_type": "code",
   "execution_count": 20,
   "id": "a1b007e4-3812-4807-8365-51b3331db84e",
   "metadata": {},
   "outputs": [
    {
     "data": {
      "text/html": [
       "<div>\n",
       "<style scoped>\n",
       "    .dataframe tbody tr th:only-of-type {\n",
       "        vertical-align: middle;\n",
       "    }\n",
       "\n",
       "    .dataframe tbody tr th {\n",
       "        vertical-align: top;\n",
       "    }\n",
       "\n",
       "    .dataframe thead tr th {\n",
       "        text-align: left;\n",
       "    }\n",
       "\n",
       "    .dataframe thead tr:last-of-type th {\n",
       "        text-align: right;\n",
       "    }\n",
       "</style>\n",
       "<table border=\"1\" class=\"dataframe\">\n",
       "  <thead>\n",
       "    <tr>\n",
       "      <th></th>\n",
       "      <th></th>\n",
       "      <th colspan=\"8\" halign=\"left\">Value1</th>\n",
       "      <th colspan=\"8\" halign=\"left\">Value2</th>\n",
       "    </tr>\n",
       "    <tr>\n",
       "      <th></th>\n",
       "      <th></th>\n",
       "      <th>count</th>\n",
       "      <th>mean</th>\n",
       "      <th>std</th>\n",
       "      <th>min</th>\n",
       "      <th>25%</th>\n",
       "      <th>50%</th>\n",
       "      <th>75%</th>\n",
       "      <th>max</th>\n",
       "      <th>count</th>\n",
       "      <th>mean</th>\n",
       "      <th>std</th>\n",
       "      <th>min</th>\n",
       "      <th>25%</th>\n",
       "      <th>50%</th>\n",
       "      <th>75%</th>\n",
       "      <th>max</th>\n",
       "    </tr>\n",
       "    <tr>\n",
       "      <th>Category</th>\n",
       "      <th>Subcategory</th>\n",
       "      <th></th>\n",
       "      <th></th>\n",
       "      <th></th>\n",
       "      <th></th>\n",
       "      <th></th>\n",
       "      <th></th>\n",
       "      <th></th>\n",
       "      <th></th>\n",
       "      <th></th>\n",
       "      <th></th>\n",
       "      <th></th>\n",
       "      <th></th>\n",
       "      <th></th>\n",
       "      <th></th>\n",
       "      <th></th>\n",
       "      <th></th>\n",
       "    </tr>\n",
       "  </thead>\n",
       "  <tbody>\n",
       "    <tr>\n",
       "      <th rowspan=\"2\" valign=\"top\">A</th>\n",
       "      <th>X</th>\n",
       "      <td>3.0</td>\n",
       "      <td>18.333333</td>\n",
       "      <td>10.408330</td>\n",
       "      <td>10.0</td>\n",
       "      <td>12.50</td>\n",
       "      <td>15.0</td>\n",
       "      <td>22.50</td>\n",
       "      <td>30.0</td>\n",
       "      <td>3.0</td>\n",
       "      <td>20.333333</td>\n",
       "      <td>12.858201</td>\n",
       "      <td>11.0</td>\n",
       "      <td>13.00</td>\n",
       "      <td>15.0</td>\n",
       "      <td>25.00</td>\n",
       "      <td>35.0</td>\n",
       "    </tr>\n",
       "    <tr>\n",
       "      <th>Y</th>\n",
       "      <td>1.0</td>\n",
       "      <td>20.000000</td>\n",
       "      <td>NaN</td>\n",
       "      <td>20.0</td>\n",
       "      <td>20.00</td>\n",
       "      <td>20.0</td>\n",
       "      <td>20.00</td>\n",
       "      <td>20.0</td>\n",
       "      <td>1.0</td>\n",
       "      <td>2.000000</td>\n",
       "      <td>NaN</td>\n",
       "      <td>2.0</td>\n",
       "      <td>2.00</td>\n",
       "      <td>2.0</td>\n",
       "      <td>2.00</td>\n",
       "      <td>2.0</td>\n",
       "    </tr>\n",
       "    <tr>\n",
       "      <th>B</th>\n",
       "      <th>Y</th>\n",
       "      <td>2.0</td>\n",
       "      <td>22.500000</td>\n",
       "      <td>3.535534</td>\n",
       "      <td>20.0</td>\n",
       "      <td>21.25</td>\n",
       "      <td>22.5</td>\n",
       "      <td>23.75</td>\n",
       "      <td>25.0</td>\n",
       "      <td>2.0</td>\n",
       "      <td>27.500000</td>\n",
       "      <td>3.535534</td>\n",
       "      <td>25.0</td>\n",
       "      <td>26.25</td>\n",
       "      <td>27.5</td>\n",
       "      <td>28.75</td>\n",
       "      <td>30.0</td>\n",
       "    </tr>\n",
       "  </tbody>\n",
       "</table>\n",
       "</div>"
      ],
      "text/plain": [
       "                     Value1                                                  \\\n",
       "                      count       mean        std   min    25%   50%    75%   \n",
       "Category Subcategory                                                          \n",
       "A        X              3.0  18.333333  10.408330  10.0  12.50  15.0  22.50   \n",
       "         Y              1.0  20.000000        NaN  20.0  20.00  20.0  20.00   \n",
       "B        Y              2.0  22.500000   3.535534  20.0  21.25  22.5  23.75   \n",
       "\n",
       "                           Value2                                           \\\n",
       "                       max  count       mean        std   min    25%   50%   \n",
       "Category Subcategory                                                         \n",
       "A        X            30.0    3.0  20.333333  12.858201  11.0  13.00  15.0   \n",
       "         Y            20.0    1.0   2.000000        NaN   2.0   2.00   2.0   \n",
       "B        Y            25.0    2.0  27.500000   3.535534  25.0  26.25  27.5   \n",
       "\n",
       "                                   \n",
       "                        75%   max  \n",
       "Category Subcategory               \n",
       "A        X            25.00  35.0  \n",
       "         Y             2.00   2.0  \n",
       "B        Y            28.75  30.0  "
      ]
     },
     "execution_count": 20,
     "metadata": {},
     "output_type": "execute_result"
    }
   ],
   "source": [
    " df.groupby(['Category', 'Subcategory']).describe()"
   ]
  },
  {
   "cell_type": "code",
   "execution_count": 21,
   "id": "ea480577-5903-467f-908b-29b67f21f4ee",
   "metadata": {},
   "outputs": [
    {
     "data": {
      "text/html": [
       "<div>\n",
       "<style scoped>\n",
       "    .dataframe tbody tr th:only-of-type {\n",
       "        vertical-align: middle;\n",
       "    }\n",
       "\n",
       "    .dataframe tbody tr th {\n",
       "        vertical-align: top;\n",
       "    }\n",
       "\n",
       "    .dataframe thead th {\n",
       "        text-align: right;\n",
       "    }\n",
       "</style>\n",
       "<table border=\"1\" class=\"dataframe\">\n",
       "  <thead>\n",
       "    <tr style=\"text-align: right;\">\n",
       "      <th></th>\n",
       "      <th></th>\n",
       "      <th>Value1</th>\n",
       "      <th>Value2</th>\n",
       "    </tr>\n",
       "    <tr>\n",
       "      <th>Category</th>\n",
       "      <th>Subcategory</th>\n",
       "      <th></th>\n",
       "      <th></th>\n",
       "    </tr>\n",
       "  </thead>\n",
       "  <tbody>\n",
       "    <tr>\n",
       "      <th rowspan=\"2\" valign=\"top\">A</th>\n",
       "      <th>X</th>\n",
       "      <td>3</td>\n",
       "      <td>3</td>\n",
       "    </tr>\n",
       "    <tr>\n",
       "      <th>Y</th>\n",
       "      <td>1</td>\n",
       "      <td>1</td>\n",
       "    </tr>\n",
       "    <tr>\n",
       "      <th>B</th>\n",
       "      <th>Y</th>\n",
       "      <td>2</td>\n",
       "      <td>2</td>\n",
       "    </tr>\n",
       "  </tbody>\n",
       "</table>\n",
       "</div>"
      ],
      "text/plain": [
       "                      Value1  Value2\n",
       "Category Subcategory                \n",
       "A        X                 3       3\n",
       "         Y                 1       1\n",
       "B        Y                 2       2"
      ]
     },
     "execution_count": 21,
     "metadata": {},
     "output_type": "execute_result"
    }
   ],
   "source": [
    "df.groupby(['Category', 'Subcategory']).nunique()"
   ]
  },
  {
   "cell_type": "code",
   "execution_count": 22,
   "id": "aa99cdb3-3d7e-4400-9f75-61da2906bd74",
   "metadata": {},
   "outputs": [
    {
     "data": {
      "text/plain": [
       "Category  Subcategory\n",
       "A         X              55\n",
       "          Y              20\n",
       "B         Y              45\n",
       "Name: Value1, dtype: int64"
      ]
     },
     "execution_count": 22,
     "metadata": {},
     "output_type": "execute_result"
    }
   ],
   "source": [
    "df.groupby(['Category', 'Subcategory'])[\"Value1\"].sum()"
   ]
  },
  {
   "cell_type": "code",
   "execution_count": 23,
   "id": "27aab2bc-d867-4a7d-a5b1-267411b47252",
   "metadata": {},
   "outputs": [
    {
     "data": {
      "text/html": [
       "<div>\n",
       "<style scoped>\n",
       "    .dataframe tbody tr th:only-of-type {\n",
       "        vertical-align: middle;\n",
       "    }\n",
       "\n",
       "    .dataframe tbody tr th {\n",
       "        vertical-align: top;\n",
       "    }\n",
       "\n",
       "    .dataframe thead th {\n",
       "        text-align: right;\n",
       "    }\n",
       "</style>\n",
       "<table border=\"1\" class=\"dataframe\">\n",
       "  <thead>\n",
       "    <tr style=\"text-align: right;\">\n",
       "      <th></th>\n",
       "      <th>Category</th>\n",
       "      <th>Subcategory</th>\n",
       "      <th>Value1</th>\n",
       "      <th>Value2</th>\n",
       "    </tr>\n",
       "  </thead>\n",
       "  <tbody>\n",
       "    <tr>\n",
       "      <th>0</th>\n",
       "      <td>A</td>\n",
       "      <td>X</td>\n",
       "      <td>10</td>\n",
       "      <td>11</td>\n",
       "    </tr>\n",
       "    <tr>\n",
       "      <th>1</th>\n",
       "      <td>A</td>\n",
       "      <td>Y</td>\n",
       "      <td>20</td>\n",
       "      <td>2</td>\n",
       "    </tr>\n",
       "    <tr>\n",
       "      <th>3</th>\n",
       "      <td>B</td>\n",
       "      <td>Y</td>\n",
       "      <td>25</td>\n",
       "      <td>25</td>\n",
       "    </tr>\n",
       "    <tr>\n",
       "      <th>5</th>\n",
       "      <td>B</td>\n",
       "      <td>Y</td>\n",
       "      <td>20</td>\n",
       "      <td>30</td>\n",
       "    </tr>\n",
       "  </tbody>\n",
       "</table>\n",
       "</div>"
      ],
      "text/plain": [
       "  Category Subcategory  Value1  Value2\n",
       "0        A           X      10      11\n",
       "1        A           Y      20       2\n",
       "3        B           Y      25      25\n",
       "5        B           Y      20      30"
      ]
     },
     "execution_count": 23,
     "metadata": {},
     "output_type": "execute_result"
    }
   ],
   "source": [
    "df.groupby('Category').head(2)"
   ]
  },
  {
   "cell_type": "code",
   "execution_count": 40,
   "id": "0cdd9692-72ce-40e8-a0a7-6dec82410b93",
   "metadata": {},
   "outputs": [
    {
     "data": {
      "text/plain": [
       "Category\n",
       "A    4\n",
       "B    2\n",
       "dtype: int64"
      ]
     },
     "execution_count": 40,
     "metadata": {},
     "output_type": "execute_result"
    }
   ],
   "source": [
    "df.groupby(['Category']).size()"
   ]
  },
  {
   "cell_type": "code",
   "execution_count": 38,
   "id": "98992543-6cce-4c0a-97db-5175ec8bbd25",
   "metadata": {},
   "outputs": [
    {
     "data": {
      "text/html": [
       "<div>\n",
       "<style scoped>\n",
       "    .dataframe tbody tr th:only-of-type {\n",
       "        vertical-align: middle;\n",
       "    }\n",
       "\n",
       "    .dataframe tbody tr th {\n",
       "        vertical-align: top;\n",
       "    }\n",
       "\n",
       "    .dataframe thead th {\n",
       "        text-align: right;\n",
       "    }\n",
       "</style>\n",
       "<table border=\"1\" class=\"dataframe\">\n",
       "  <thead>\n",
       "    <tr style=\"text-align: right;\">\n",
       "      <th></th>\n",
       "      <th>Subcategory</th>\n",
       "      <th>Value1</th>\n",
       "      <th>Value2</th>\n",
       "      <th>Value3</th>\n",
       "    </tr>\n",
       "    <tr>\n",
       "      <th>Category</th>\n",
       "      <th></th>\n",
       "      <th></th>\n",
       "      <th></th>\n",
       "      <th></th>\n",
       "    </tr>\n",
       "  </thead>\n",
       "  <tbody>\n",
       "    <tr>\n",
       "      <th>A</th>\n",
       "      <td>4</td>\n",
       "      <td>4</td>\n",
       "      <td>4</td>\n",
       "      <td>4</td>\n",
       "    </tr>\n",
       "    <tr>\n",
       "      <th>B</th>\n",
       "      <td>2</td>\n",
       "      <td>2</td>\n",
       "      <td>2</td>\n",
       "      <td>2</td>\n",
       "    </tr>\n",
       "  </tbody>\n",
       "</table>\n",
       "</div>"
      ],
      "text/plain": [
       "          Subcategory  Value1  Value2  Value3\n",
       "Category                                     \n",
       "A                   4       4       4       4\n",
       "B                   2       2       2       2"
      ]
     },
     "execution_count": 38,
     "metadata": {},
     "output_type": "execute_result"
    }
   ],
   "source": [
    "df.groupby('Category').count()"
   ]
  },
  {
   "cell_type": "code",
   "execution_count": 24,
   "id": "1c934838-a47a-4910-83a3-2037fa5087f2",
   "metadata": {},
   "outputs": [
    {
     "name": "stdout",
     "output_type": "stream",
     "text": [
      "0   -1.024695\n",
      "1    0.146385\n",
      "2   -0.439155\n",
      "3    0.707107\n",
      "4    1.317465\n",
      "5   -0.707107\n",
      "Name: Value1, dtype: float64\n",
      "<class 'pandas.core.series.Series'>\n",
      "\n",
      "     Value1    Value2\n",
      "0 -1.024695 -0.340811\n",
      "1  0.146385 -0.986557\n",
      "2 -0.439155 -0.053812\n",
      "3  0.707107 -0.707107\n",
      "4  1.317465  1.381180\n",
      "5 -0.707107  0.707107\n"
     ]
    }
   ],
   "source": [
    "a=df.groupby(['Category'])['Value1'].transform(lambda x: (x - x.mean()) / x.std())\n",
    "print(a)\n",
    "print(type(a))\n",
    "print()\n",
    "\n",
    "b=df.groupby(['Category'])[['Value1','Value2']].transform(lambda x: (x - x.mean()) / x.std())\n",
    "print(b)"
   ]
  },
  {
   "cell_type": "code",
   "execution_count": 25,
   "id": "a54f54e2-9368-4372-89f4-3e6b5624b200",
   "metadata": {},
   "outputs": [
    {
     "data": {
      "text/html": [
       "<div>\n",
       "<style scoped>\n",
       "    .dataframe tbody tr th:only-of-type {\n",
       "        vertical-align: middle;\n",
       "    }\n",
       "\n",
       "    .dataframe tbody tr th {\n",
       "        vertical-align: top;\n",
       "    }\n",
       "\n",
       "    .dataframe thead tr th {\n",
       "        text-align: left;\n",
       "    }\n",
       "\n",
       "    .dataframe thead tr:last-of-type th {\n",
       "        text-align: right;\n",
       "    }\n",
       "</style>\n",
       "<table border=\"1\" class=\"dataframe\">\n",
       "  <thead>\n",
       "    <tr>\n",
       "      <th></th>\n",
       "      <th colspan=\"3\" halign=\"left\">Value1</th>\n",
       "      <th colspan=\"3\" halign=\"left\">Value2</th>\n",
       "    </tr>\n",
       "    <tr>\n",
       "      <th></th>\n",
       "      <th>sum</th>\n",
       "      <th>mean</th>\n",
       "      <th>std</th>\n",
       "      <th>sum</th>\n",
       "      <th>mean</th>\n",
       "      <th>std</th>\n",
       "    </tr>\n",
       "    <tr>\n",
       "      <th>Category</th>\n",
       "      <th></th>\n",
       "      <th></th>\n",
       "      <th></th>\n",
       "      <th></th>\n",
       "      <th></th>\n",
       "      <th></th>\n",
       "    </tr>\n",
       "  </thead>\n",
       "  <tbody>\n",
       "    <tr>\n",
       "      <th>A</th>\n",
       "      <td>75</td>\n",
       "      <td>18.75</td>\n",
       "      <td>8.539126</td>\n",
       "      <td>63</td>\n",
       "      <td>15.75</td>\n",
       "      <td>13.937360</td>\n",
       "    </tr>\n",
       "    <tr>\n",
       "      <th>B</th>\n",
       "      <td>45</td>\n",
       "      <td>22.50</td>\n",
       "      <td>3.535534</td>\n",
       "      <td>55</td>\n",
       "      <td>27.50</td>\n",
       "      <td>3.535534</td>\n",
       "    </tr>\n",
       "  </tbody>\n",
       "</table>\n",
       "</div>"
      ],
      "text/plain": [
       "         Value1                  Value2                  \n",
       "            sum   mean       std    sum   mean        std\n",
       "Category                                                 \n",
       "A            75  18.75  8.539126     63  15.75  13.937360\n",
       "B            45  22.50  3.535534     55  27.50   3.535534"
      ]
     },
     "execution_count": 25,
     "metadata": {},
     "output_type": "execute_result"
    }
   ],
   "source": [
    "df.groupby(['Category'])[['Value1','Value2']].agg(['sum', 'mean', 'std']) \n"
   ]
  },
  {
   "cell_type": "code",
   "execution_count": 26,
   "id": "7c9286a9-ada2-47e6-be78-00c78f672acc",
   "metadata": {},
   "outputs": [
    {
     "name": "stdout",
     "output_type": "stream",
     "text": [
      "Category       AAABAB\n",
      "Subcategory    XYXYXY\n",
      "Value1            120\n",
      "Value2            118\n",
      "dtype: object\n",
      "\n",
      "Category       AAABAB\n",
      "Subcategory    XYXYXY\n",
      "Value1            120\n",
      "Value2            118\n",
      "dtype: object\n"
     ]
    }
   ],
   "source": [
    "a=df.apply(\"sum\")\n",
    "print(a)\n",
    "print()\n",
    "\n",
    "b=df.apply(np.sum)\n",
    "print(b)"
   ]
  },
  {
   "cell_type": "code",
   "execution_count": 27,
   "id": "e872f2aa-bf11-4510-b87b-8895d2ce9c61",
   "metadata": {},
   "outputs": [
    {
     "name": "stdout",
     "output_type": "stream",
     "text": [
      "  Category Subcategory  Value1  Value2  Value3\n",
      "0        A           X      10      11     100\n",
      "1        A           Y      20       2     400\n",
      "2        A           X      15      15     225\n",
      "3        B           Y      25      25     625\n",
      "4        A           X      30      35     900\n",
      "5        B           Y      20      30     400\n"
     ]
    }
   ],
   "source": [
    "df['Value3']=df['Value1'].apply(lambda x: x**2)\n",
    "print (df)"
   ]
  },
  {
   "cell_type": "code",
   "execution_count": 28,
   "id": "5e238709-b66a-4315-8358-fcc11eaebbf8",
   "metadata": {},
   "outputs": [
    {
     "data": {
      "text/html": [
       "<div>\n",
       "<style scoped>\n",
       "    .dataframe tbody tr th:only-of-type {\n",
       "        vertical-align: middle;\n",
       "    }\n",
       "\n",
       "    .dataframe tbody tr th {\n",
       "        vertical-align: top;\n",
       "    }\n",
       "\n",
       "    .dataframe thead th {\n",
       "        text-align: right;\n",
       "    }\n",
       "</style>\n",
       "<table border=\"1\" class=\"dataframe\">\n",
       "  <thead>\n",
       "    <tr style=\"text-align: right;\">\n",
       "      <th></th>\n",
       "      <th>Value1</th>\n",
       "      <th>Value2</th>\n",
       "    </tr>\n",
       "    <tr>\n",
       "      <th>Category</th>\n",
       "      <th></th>\n",
       "      <th></th>\n",
       "    </tr>\n",
       "  </thead>\n",
       "  <tbody>\n",
       "    <tr>\n",
       "      <th>A</th>\n",
       "      <td>75</td>\n",
       "      <td>63</td>\n",
       "    </tr>\n",
       "    <tr>\n",
       "      <th>B</th>\n",
       "      <td>45</td>\n",
       "      <td>55</td>\n",
       "    </tr>\n",
       "  </tbody>\n",
       "</table>\n",
       "</div>"
      ],
      "text/plain": [
       "          Value1  Value2\n",
       "Category                \n",
       "A             75      63\n",
       "B             45      55"
      ]
     },
     "execution_count": 28,
     "metadata": {},
     "output_type": "execute_result"
    }
   ],
   "source": [
    "# pd.pivot_table\n",
    "table=pd.pivot_table(df,index=['Category'],values=['Value1','Value2'],aggfunc=\"sum\")\n",
    "table"
   ]
  },
  {
   "cell_type": "code",
   "execution_count": 29,
   "id": "bbedd21b-fbd8-4a44-afb0-df673f2ba8a0",
   "metadata": {},
   "outputs": [
    {
     "data": {
      "text/html": [
       "<div>\n",
       "<style scoped>\n",
       "    .dataframe tbody tr th:only-of-type {\n",
       "        vertical-align: middle;\n",
       "    }\n",
       "\n",
       "    .dataframe tbody tr th {\n",
       "        vertical-align: top;\n",
       "    }\n",
       "\n",
       "    .dataframe thead th {\n",
       "        text-align: right;\n",
       "    }\n",
       "</style>\n",
       "<table border=\"1\" class=\"dataframe\">\n",
       "  <thead>\n",
       "    <tr style=\"text-align: right;\">\n",
       "      <th></th>\n",
       "      <th>Value1</th>\n",
       "      <th>Value2</th>\n",
       "    </tr>\n",
       "    <tr>\n",
       "      <th>Category</th>\n",
       "      <th></th>\n",
       "      <th></th>\n",
       "    </tr>\n",
       "  </thead>\n",
       "  <tbody>\n",
       "    <tr>\n",
       "      <th>A</th>\n",
       "      <td>75</td>\n",
       "      <td>63</td>\n",
       "    </tr>\n",
       "  </tbody>\n",
       "</table>\n",
       "</div>"
      ],
      "text/plain": [
       "          Value1  Value2\n",
       "Category                \n",
       "A             75      63"
      ]
     },
     "execution_count": 29,
     "metadata": {},
     "output_type": "execute_result"
    }
   ],
   "source": [
    "table[table.index=='A']"
   ]
  },
  {
   "cell_type": "markdown",
   "id": "f18e0f89-b3fa-4dd6-9fdc-29065d9f62d8",
   "metadata": {},
   "source": [
    "# JOIN/COMBINE"
   ]
  },
  {
   "cell_type": "code",
   "execution_count": 30,
   "id": "62f40daf-3bd4-40e8-8bea-9af9cab959e8",
   "metadata": {},
   "outputs": [
    {
     "name": "stdout",
     "output_type": "stream",
     "text": [
      "  key1 key2   A   B\n",
      "0   K0   K0  A0  B0\n",
      "1   K0   K1  A1  B1\n",
      "2   K1   K0  A2  B2\n",
      "3   K2   K1  A3  B3\n",
      "  key1 key2   C   D\n",
      "0   K0   K0  C0  D0\n",
      "1   K1   K0  C1  D1\n",
      "2   K1   K0  C2  D2\n",
      "3   K2   K0  C3  D3\n"
     ]
    }
   ],
   "source": [
    "left = pd.DataFrame(\n",
    "   {\n",
    "      \"key1\": [\"K0\", \"K0\", \"K1\", \"K2\"],\n",
    "      \"key2\": [\"K0\", \"K1\", \"K0\", \"K1\"],\n",
    "      \"A\": [\"A0\", \"A1\", \"A2\", \"A3\"],\n",
    "      \"B\": [\"B0\", \"B1\", \"B2\", \"B3\"],\n",
    "   }\n",
    ")\n",
    "right = pd.DataFrame(\n",
    "   {\n",
    "      \"key1\": [\"K0\", \"K1\", \"K1\", \"K2\"],\n",
    "      \"key2\": [\"K0\", \"K0\", \"K0\", \"K0\"],\n",
    "      \"C\": [\"C0\", \"C1\", \"C2\", \"C3\"],\n",
    "      \"D\": [\"D0\", \"D1\", \"D2\", \"D3\"],\n",
    "   }\n",
    ")\n",
    "print (left)\n",
    "print(right)"
   ]
  },
  {
   "cell_type": "code",
   "execution_count": 31,
   "id": "873616d8-d9b6-42b0-b779-5fc56cd7d166",
   "metadata": {},
   "outputs": [
    {
     "data": {
      "text/html": [
       "<div>\n",
       "<style scoped>\n",
       "    .dataframe tbody tr th:only-of-type {\n",
       "        vertical-align: middle;\n",
       "    }\n",
       "\n",
       "    .dataframe tbody tr th {\n",
       "        vertical-align: top;\n",
       "    }\n",
       "\n",
       "    .dataframe thead th {\n",
       "        text-align: right;\n",
       "    }\n",
       "</style>\n",
       "<table border=\"1\" class=\"dataframe\">\n",
       "  <thead>\n",
       "    <tr style=\"text-align: right;\">\n",
       "      <th></th>\n",
       "      <th>key1</th>\n",
       "      <th>key2</th>\n",
       "      <th>A</th>\n",
       "      <th>B</th>\n",
       "      <th>C</th>\n",
       "      <th>D</th>\n",
       "    </tr>\n",
       "  </thead>\n",
       "  <tbody>\n",
       "    <tr>\n",
       "      <th>0</th>\n",
       "      <td>K0</td>\n",
       "      <td>K0</td>\n",
       "      <td>A0</td>\n",
       "      <td>B0</td>\n",
       "      <td>C0</td>\n",
       "      <td>D0</td>\n",
       "    </tr>\n",
       "    <tr>\n",
       "      <th>1</th>\n",
       "      <td>K0</td>\n",
       "      <td>K1</td>\n",
       "      <td>A1</td>\n",
       "      <td>B1</td>\n",
       "      <td>NaN</td>\n",
       "      <td>NaN</td>\n",
       "    </tr>\n",
       "    <tr>\n",
       "      <th>2</th>\n",
       "      <td>K1</td>\n",
       "      <td>K0</td>\n",
       "      <td>A2</td>\n",
       "      <td>B2</td>\n",
       "      <td>C1</td>\n",
       "      <td>D1</td>\n",
       "    </tr>\n",
       "    <tr>\n",
       "      <th>3</th>\n",
       "      <td>K1</td>\n",
       "      <td>K0</td>\n",
       "      <td>A2</td>\n",
       "      <td>B2</td>\n",
       "      <td>C2</td>\n",
       "      <td>D2</td>\n",
       "    </tr>\n",
       "    <tr>\n",
       "      <th>4</th>\n",
       "      <td>K2</td>\n",
       "      <td>K1</td>\n",
       "      <td>A3</td>\n",
       "      <td>B3</td>\n",
       "      <td>NaN</td>\n",
       "      <td>NaN</td>\n",
       "    </tr>\n",
       "  </tbody>\n",
       "</table>\n",
       "</div>"
      ],
      "text/plain": [
       "  key1 key2   A   B    C    D\n",
       "0   K0   K0  A0  B0   C0   D0\n",
       "1   K0   K1  A1  B1  NaN  NaN\n",
       "2   K1   K0  A2  B2   C1   D1\n",
       "3   K1   K0  A2  B2   C2   D2\n",
       "4   K2   K1  A3  B3  NaN  NaN"
      ]
     },
     "execution_count": 31,
     "metadata": {},
     "output_type": "execute_result"
    }
   ],
   "source": [
    "pd.merge(left, right, how=\"left\", on=[\"key1\", \"key2\"])"
   ]
  },
  {
   "cell_type": "code",
   "execution_count": 32,
   "id": "2d31a2e9-8fa5-4ae5-9284-e67e1caa51f4",
   "metadata": {},
   "outputs": [
    {
     "data": {
      "text/html": [
       "<div>\n",
       "<style scoped>\n",
       "    .dataframe tbody tr th:only-of-type {\n",
       "        vertical-align: middle;\n",
       "    }\n",
       "\n",
       "    .dataframe tbody tr th {\n",
       "        vertical-align: top;\n",
       "    }\n",
       "\n",
       "    .dataframe thead th {\n",
       "        text-align: right;\n",
       "    }\n",
       "</style>\n",
       "<table border=\"1\" class=\"dataframe\">\n",
       "  <thead>\n",
       "    <tr style=\"text-align: right;\">\n",
       "      <th></th>\n",
       "      <th>key1</th>\n",
       "      <th>key2</th>\n",
       "      <th>A</th>\n",
       "      <th>B</th>\n",
       "      <th>C</th>\n",
       "      <th>D</th>\n",
       "    </tr>\n",
       "  </thead>\n",
       "  <tbody>\n",
       "    <tr>\n",
       "      <th>0</th>\n",
       "      <td>K0</td>\n",
       "      <td>K0</td>\n",
       "      <td>A0</td>\n",
       "      <td>B0</td>\n",
       "      <td>C0</td>\n",
       "      <td>D0</td>\n",
       "    </tr>\n",
       "    <tr>\n",
       "      <th>1</th>\n",
       "      <td>K1</td>\n",
       "      <td>K0</td>\n",
       "      <td>A2</td>\n",
       "      <td>B2</td>\n",
       "      <td>C1</td>\n",
       "      <td>D1</td>\n",
       "    </tr>\n",
       "    <tr>\n",
       "      <th>2</th>\n",
       "      <td>K1</td>\n",
       "      <td>K0</td>\n",
       "      <td>A2</td>\n",
       "      <td>B2</td>\n",
       "      <td>C2</td>\n",
       "      <td>D2</td>\n",
       "    </tr>\n",
       "    <tr>\n",
       "      <th>3</th>\n",
       "      <td>K2</td>\n",
       "      <td>K0</td>\n",
       "      <td>NaN</td>\n",
       "      <td>NaN</td>\n",
       "      <td>C3</td>\n",
       "      <td>D3</td>\n",
       "    </tr>\n",
       "  </tbody>\n",
       "</table>\n",
       "</div>"
      ],
      "text/plain": [
       "  key1 key2    A    B   C   D\n",
       "0   K0   K0   A0   B0  C0  D0\n",
       "1   K1   K0   A2   B2  C1  D1\n",
       "2   K1   K0   A2   B2  C2  D2\n",
       "3   K2   K0  NaN  NaN  C3  D3"
      ]
     },
     "execution_count": 32,
     "metadata": {},
     "output_type": "execute_result"
    }
   ],
   "source": [
    "pd.merge(left, right, how=\"right\", on=[\"key1\", \"key2\"])"
   ]
  },
  {
   "cell_type": "code",
   "execution_count": 33,
   "id": "ab876c97-550d-4ece-97b4-5961024a9dea",
   "metadata": {},
   "outputs": [
    {
     "name": "stdout",
     "output_type": "stream",
     "text": [
      "     A   B\n",
      "K0  A0  B0\n",
      "K1  A1  B1\n",
      "K2  A2  B2\n"
     ]
    }
   ],
   "source": [
    "left = pd.DataFrame(\n",
    "    {\"A\": [\"A0\", \"A1\", \"A2\"], \"B\": [\"B0\", \"B1\", \"B2\"]}, index=[\"K0\", \"K1\", \"K2\"]\n",
    ")\n",
    "print(left)"
   ]
  },
  {
   "cell_type": "code",
   "execution_count": 34,
   "id": "7504f4f1-4af3-4f8b-b174-c180be44f73e",
   "metadata": {},
   "outputs": [
    {
     "name": "stdout",
     "output_type": "stream",
     "text": [
      "     C   D\n",
      "K0  C0  D0\n",
      "K2  C2  D2\n",
      "K3  C3  D3\n"
     ]
    }
   ],
   "source": [
    "right = pd.DataFrame(\n",
    "    {\"C\": [\"C0\", \"C2\", \"C3\"], \"D\": [\"D0\", \"D2\", \"D3\"]}, index=[\"K0\", \"K2\", \"K3\"]\n",
    ")\n",
    "print(right)"
   ]
  },
  {
   "cell_type": "code",
   "execution_count": 35,
   "id": "7fb7b662-148a-4c14-97e3-1924f810f768",
   "metadata": {},
   "outputs": [
    {
     "data": {
      "text/html": [
       "<div>\n",
       "<style scoped>\n",
       "    .dataframe tbody tr th:only-of-type {\n",
       "        vertical-align: middle;\n",
       "    }\n",
       "\n",
       "    .dataframe tbody tr th {\n",
       "        vertical-align: top;\n",
       "    }\n",
       "\n",
       "    .dataframe thead th {\n",
       "        text-align: right;\n",
       "    }\n",
       "</style>\n",
       "<table border=\"1\" class=\"dataframe\">\n",
       "  <thead>\n",
       "    <tr style=\"text-align: right;\">\n",
       "      <th></th>\n",
       "      <th>A</th>\n",
       "      <th>B</th>\n",
       "      <th>C</th>\n",
       "      <th>D</th>\n",
       "    </tr>\n",
       "  </thead>\n",
       "  <tbody>\n",
       "    <tr>\n",
       "      <th>K0</th>\n",
       "      <td>A0</td>\n",
       "      <td>B0</td>\n",
       "      <td>C0</td>\n",
       "      <td>D0</td>\n",
       "    </tr>\n",
       "    <tr>\n",
       "      <th>K1</th>\n",
       "      <td>A1</td>\n",
       "      <td>B1</td>\n",
       "      <td>NaN</td>\n",
       "      <td>NaN</td>\n",
       "    </tr>\n",
       "    <tr>\n",
       "      <th>K2</th>\n",
       "      <td>A2</td>\n",
       "      <td>B2</td>\n",
       "      <td>C2</td>\n",
       "      <td>D2</td>\n",
       "    </tr>\n",
       "  </tbody>\n",
       "</table>\n",
       "</div>"
      ],
      "text/plain": [
       "     A   B    C    D\n",
       "K0  A0  B0   C0   D0\n",
       "K1  A1  B1  NaN  NaN\n",
       "K2  A2  B2   C2   D2"
      ]
     },
     "execution_count": 35,
     "metadata": {},
     "output_type": "execute_result"
    }
   ],
   "source": [
    "result = left.join(right)\n",
    "result"
   ]
  },
  {
   "cell_type": "markdown",
   "id": "12264e41-e8d3-4d22-aebe-389f7062bf01",
   "metadata": {},
   "source": [
    "# Working with Datetime\n",
    "With its focus on time-series data, pandas has a suite of \n",
    "tools for managing dates and time: either as a point i \r\n",
    "time (a Timestamp) or as a span of time (a Period)"
   ]
  },
  {
   "cell_type": "code",
   "execution_count": 36,
   "id": "ab2f3095-a748-4561-8490-c1db0e02cc6c",
   "metadata": {},
   "outputs": [
    {
     "name": "stdout",
     "output_type": "stream",
     "text": [
      "2013-05-01 00:00:00\n"
     ]
    },
    {
     "ename": "NameError",
     "evalue": "name 't' is not defined",
     "output_type": "error",
     "traceback": [
      "\u001b[1;31m---------------------------------------------------------------------------\u001b[0m",
      "\u001b[1;31mNameError\u001b[0m                                 Traceback (most recent call last)",
      "Cell \u001b[1;32mIn[36], line 5\u001b[0m\n\u001b[0;32m      3\u001b[0m t3 \u001b[38;5;241m=\u001b[39m pd\u001b[38;5;241m.\u001b[39mTimestamp(\u001b[38;5;124m'\u001b[39m\u001b[38;5;124mSep 04, 1982 1:35.18\u001b[39m\u001b[38;5;124m'\u001b[39m)\n\u001b[0;32m      4\u001b[0m \u001b[38;5;28mprint\u001b[39m(date)\n\u001b[1;32m----> 5\u001b[0m \u001b[38;5;28mprint\u001b[39m(\u001b[38;5;28mtype\u001b[39m(t))\n\u001b[0;32m      6\u001b[0m \u001b[38;5;28mprint\u001b[39m (t2)\n\u001b[0;32m      7\u001b[0m \u001b[38;5;28mprint\u001b[39m(t3)\n",
      "\u001b[1;31mNameError\u001b[0m: name 't' is not defined"
     ]
    }
   ],
   "source": [
    "date = pd.Timestamp('2013-05-01')\n",
    "t2 = pd.Timestamp('2013-01-01 21:15:06') \n",
    "t3 = pd.Timestamp('Sep 04, 1982 1:35.18')\n",
    "print(date)\n",
    "print(type(t))\n",
    "print (t2)\n",
    "print(t3)"
   ]
  },
  {
   "cell_type": "code",
   "execution_count": null,
   "id": "f817b752-4075-476d-b80c-4a7ca0ab22e7",
   "metadata": {},
   "outputs": [],
   "source": [
    "# Separate element of a datatime object from buit-in attributes\n",
    "year=date.year\n",
    "month=date.month\n",
    "day=date.day\n",
    "hour=date.hour\n",
    "minute=date.minute\n",
    "month_name=date.month_name()\n",
    "week_day=date.weekday() # Return the day of the week as a number,counting from 0 (for monday)\n",
    "day_name=date.day_name() # Return the day of the week as a text\n",
    "print(month)\n",
    "print(month_name)\n",
    "print(week_day)\n",
    "print(day_name)"
   ]
  },
  {
   "cell_type": "code",
   "execution_count": null,
   "id": "0b66d7a1-6bde-4590-8089-df98d6d1417e",
   "metadata": {},
   "outputs": [],
   "source": [
    "pd.Period('2013-01', freq='M')"
   ]
  },
  {
   "cell_type": "code",
   "execution_count": null,
   "id": "ee63e19c-a8d0-4b82-9d12-1b20b75c21be",
   "metadata": {},
   "outputs": [],
   "source": [
    "# Work on time-series data\n",
    "# Make the DataFrame for testing\n",
    "df=pd.DataFrame({'datetime': [\"24-10-01\", \"24-10-02\",\"24-10-03\",\"24-10-04\",\"24-10-05\"],'Value':[20,50,30,40,60]})\n",
    "print (df)\n",
    "df.info()"
   ]
  },
  {
   "cell_type": "code",
   "execution_count": null,
   "id": "42b20e36-eb23-4baa-9752-35030d633020",
   "metadata": {},
   "outputs": [],
   "source": [
    "df['datetime'] = pd.to_datetime(df['datetime'], format=\"%y-%m-%d\") # Convert to column 'datetime' (string object) to a datetime object\n",
    "df.info()\n",
    "print(df)"
   ]
  },
  {
   "cell_type": "code",
   "execution_count": null,
   "id": "e14f2c83-8901-4aa6-a132-700f25f5d33c",
   "metadata": {},
   "outputs": [],
   "source": [
    "mask = (df['datetime'] >= pd.Timestamp('2024-10-02')) & (df.datetime < pd.Timestamp('2024-10-05'))\n",
    "df[mask]"
   ]
  },
  {
   "cell_type": "code",
   "execution_count": null,
   "id": "c3f01f06-f032-4bb7-9a0b-59d238c6a562",
   "metadata": {},
   "outputs": [],
   "source": [
    "df2=df.set_index('datetime')\n",
    "df2.loc['2024-10-02':'2024-10-04']"
   ]
  },
  {
   "cell_type": "code",
   "execution_count": null,
   "id": "efaff83d-c5ee-4e4a-ada0-6fbf04eb43d5",
   "metadata": {},
   "outputs": [],
   "source": [
    "df2.loc['Oct 2 2024']"
   ]
  },
  {
   "cell_type": "code",
   "execution_count": null,
   "id": "38a7093a-b0f6-43c6-a6a0-b6e6e722a2de",
   "metadata": {},
   "outputs": [],
   "source": []
  }
 ],
 "metadata": {
  "kernelspec": {
   "display_name": "Python 3 (ipykernel)",
   "language": "python",
   "name": "python3"
  },
  "language_info": {
   "codemirror_mode": {
    "name": "ipython",
    "version": 3
   },
   "file_extension": ".py",
   "mimetype": "text/x-python",
   "name": "python",
   "nbconvert_exporter": "python",
   "pygments_lexer": "ipython3",
   "version": "3.11.7"
  }
 },
 "nbformat": 4,
 "nbformat_minor": 5
}
